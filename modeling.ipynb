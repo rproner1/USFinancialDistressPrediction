{
 "cells": [
  {
   "cell_type": "markdown",
   "id": "6c2b6159-eae2-4676-8737-b732c391d130",
   "metadata": {},
   "source": [
    "# US Financial Distress Prediction: Modeling"
   ]
  },
  {
   "cell_type": "code",
   "execution_count": 1,
   "id": "b3171cc3-cb81-49f4-8378-88c466ffb918",
   "metadata": {},
   "outputs": [],
   "source": [
    "import pandas as pd\n",
    "from sklearn.ensemble import RandomForestClassifier\n",
    "from sklearn.model_selection import GridSearchCV, train_test_split\n",
    "from sklearn.metrics import classification_report, plot_roc_curve"
   ]
  },
  {
   "cell_type": "code",
   "execution_count": 4,
   "id": "2ea16a04-0b41-4c1f-a0b4-cb03c126e0ee",
   "metadata": {},
   "outputs": [
    {
     "data": {
      "text/html": [
       "<div>\n",
       "<style scoped>\n",
       "    .dataframe tbody tr th:only-of-type {\n",
       "        vertical-align: middle;\n",
       "    }\n",
       "\n",
       "    .dataframe tbody tr th {\n",
       "        vertical-align: top;\n",
       "    }\n",
       "\n",
       "    .dataframe thead th {\n",
       "        text-align: right;\n",
       "    }\n",
       "</style>\n",
       "<table border=\"1\" class=\"dataframe\">\n",
       "  <thead>\n",
       "    <tr style=\"text-align: right;\">\n",
       "      <th></th>\n",
       "      <th>profitMgn</th>\n",
       "      <th>grossMgn</th>\n",
       "      <th>opMgn</th>\n",
       "      <th>ebitdaMgn</th>\n",
       "      <th>roe</th>\n",
       "      <th>roa</th>\n",
       "      <th>roc</th>\n",
       "      <th>current</th>\n",
       "      <th>quick</th>\n",
       "      <th>tfotl</th>\n",
       "      <th>tlta</th>\n",
       "      <th>noCreditInt</th>\n",
       "      <th>intCover</th>\n",
       "      <th>piotroski</th>\n",
       "      <th>cpi</th>\n",
       "      <th>realRate</th>\n",
       "      <th>distress</th>\n",
       "    </tr>\n",
       "  </thead>\n",
       "  <tbody>\n",
       "    <tr>\n",
       "      <th>0</th>\n",
       "      <td>0.119448</td>\n",
       "      <td>0.503151</td>\n",
       "      <td>0.748416</td>\n",
       "      <td>0.117740</td>\n",
       "      <td>0.264377</td>\n",
       "      <td>0.098580</td>\n",
       "      <td>0.098580</td>\n",
       "      <td>0.983430</td>\n",
       "      <td>0.956813</td>\n",
       "      <td>0.168346</td>\n",
       "      <td>0.561344</td>\n",
       "      <td>-1.0</td>\n",
       "      <td>-1.000000</td>\n",
       "      <td>5.0</td>\n",
       "      <td>98.737477</td>\n",
       "      <td>3.082411</td>\n",
       "      <td>1</td>\n",
       "    </tr>\n",
       "    <tr>\n",
       "      <th>1</th>\n",
       "      <td>-0.006918</td>\n",
       "      <td>0.471108</td>\n",
       "      <td>0.766793</td>\n",
       "      <td>-0.020082</td>\n",
       "      <td>-0.012330</td>\n",
       "      <td>-0.004072</td>\n",
       "      <td>-0.004072</td>\n",
       "      <td>0.998274</td>\n",
       "      <td>0.995394</td>\n",
       "      <td>0.079861</td>\n",
       "      <td>0.584804</td>\n",
       "      <td>-1.0</td>\n",
       "      <td>0.909638</td>\n",
       "      <td>4.0</td>\n",
       "      <td>98.386420</td>\n",
       "      <td>2.468829</td>\n",
       "      <td>0</td>\n",
       "    </tr>\n",
       "    <tr>\n",
       "      <th>2</th>\n",
       "      <td>0.124986</td>\n",
       "      <td>0.491630</td>\n",
       "      <td>0.749778</td>\n",
       "      <td>0.111221</td>\n",
       "      <td>0.208279</td>\n",
       "      <td>0.070428</td>\n",
       "      <td>0.070428</td>\n",
       "      <td>0.964096</td>\n",
       "      <td>0.943470</td>\n",
       "      <td>0.110690</td>\n",
       "      <td>0.582510</td>\n",
       "      <td>-1.0</td>\n",
       "      <td>-1.000000</td>\n",
       "      <td>7.0</td>\n",
       "      <td>100.000000</td>\n",
       "      <td>2.060737</td>\n",
       "      <td>0</td>\n",
       "    </tr>\n",
       "    <tr>\n",
       "      <th>3</th>\n",
       "      <td>0.151803</td>\n",
       "      <td>0.488040</td>\n",
       "      <td>0.718755</td>\n",
       "      <td>0.141152</td>\n",
       "      <td>0.230272</td>\n",
       "      <td>0.111274</td>\n",
       "      <td>0.111274</td>\n",
       "      <td>0.995357</td>\n",
       "      <td>0.987704</td>\n",
       "      <td>0.259681</td>\n",
       "      <td>0.480368</td>\n",
       "      <td>-1.0</td>\n",
       "      <td>-1.000000</td>\n",
       "      <td>7.0</td>\n",
       "      <td>103.156842</td>\n",
       "      <td>1.137338</td>\n",
       "      <td>0</td>\n",
       "    </tr>\n",
       "    <tr>\n",
       "      <th>4</th>\n",
       "      <td>0.166558</td>\n",
       "      <td>0.481947</td>\n",
       "      <td>0.710339</td>\n",
       "      <td>0.153487</td>\n",
       "      <td>0.218778</td>\n",
       "      <td>0.109000</td>\n",
       "      <td>0.118742</td>\n",
       "      <td>0.985079</td>\n",
       "      <td>0.957057</td>\n",
       "      <td>0.225544</td>\n",
       "      <td>0.468290</td>\n",
       "      <td>-1.0</td>\n",
       "      <td>-1.000000</td>\n",
       "      <td>5.0</td>\n",
       "      <td>105.291505</td>\n",
       "      <td>1.307083</td>\n",
       "      <td>0</td>\n",
       "    </tr>\n",
       "  </tbody>\n",
       "</table>\n",
       "</div>"
      ],
      "text/plain": [
       "   profitMgn  grossMgn     opMgn  ebitdaMgn       roe       roa       roc  \\\n",
       "0   0.119448  0.503151  0.748416   0.117740  0.264377  0.098580  0.098580   \n",
       "1  -0.006918  0.471108  0.766793  -0.020082 -0.012330 -0.004072 -0.004072   \n",
       "2   0.124986  0.491630  0.749778   0.111221  0.208279  0.070428  0.070428   \n",
       "3   0.151803  0.488040  0.718755   0.141152  0.230272  0.111274  0.111274   \n",
       "4   0.166558  0.481947  0.710339   0.153487  0.218778  0.109000  0.118742   \n",
       "\n",
       "    current     quick     tfotl      tlta  noCreditInt  intCover  piotroski  \\\n",
       "0  0.983430  0.956813  0.168346  0.561344         -1.0 -1.000000        5.0   \n",
       "1  0.998274  0.995394  0.079861  0.584804         -1.0  0.909638        4.0   \n",
       "2  0.964096  0.943470  0.110690  0.582510         -1.0 -1.000000        7.0   \n",
       "3  0.995357  0.987704  0.259681  0.480368         -1.0 -1.000000        7.0   \n",
       "4  0.985079  0.957057  0.225544  0.468290         -1.0 -1.000000        5.0   \n",
       "\n",
       "          cpi  realRate  distress  \n",
       "0   98.737477  3.082411         1  \n",
       "1   98.386420  2.468829         0  \n",
       "2  100.000000  2.060737         0  \n",
       "3  103.156842  1.137338         0  \n",
       "4  105.291505  1.307083         0  "
      ]
     },
     "execution_count": 4,
     "metadata": {},
     "output_type": "execute_result"
    }
   ],
   "source": [
    "data = pd.read_csv('distressdata.csv')\n",
    "data.head()"
   ]
  },
  {
   "cell_type": "code",
   "execution_count": 6,
   "id": "36258740-4cda-477b-889f-3a6d4ec99f00",
   "metadata": {},
   "outputs": [],
   "source": [
    "X = data.drop('distress', axis=1)\n",
    "y = data['distress']\n",
    "trainX, testX, trainY, testY = train_test_split(X, y)"
   ]
  },
  {
   "cell_type": "code",
   "execution_count": 12,
   "id": "feec1d30-4e32-427c-990d-beb284d99445",
   "metadata": {},
   "outputs": [],
   "source": [
    "rf = GridSearchCV(estimator=RandomForestClassifier(random_state=1),\n",
    "                 param_grid={'n_estimators': [500, 1500, 3000],\n",
    "                            'max_features': ['sqrt', 'log2']})\n",
    "rf.fit(X=trainX, y=trainY)\n",
    "rfPreds = rf.predict(testX)"
   ]
  },
  {
   "cell_type": "code",
   "execution_count": 14,
   "id": "04ceeacf-b9c2-4b88-800e-6d5b7402eec0",
   "metadata": {},
   "outputs": [
    {
     "data": {
      "text/plain": [
       "RandomForestClassifier(max_features='sqrt', n_estimators=3000, random_state=1)"
      ]
     },
     "execution_count": 14,
     "metadata": {},
     "output_type": "execute_result"
    }
   ],
   "source": [
    "rf.best_estimator_"
   ]
  },
  {
   "cell_type": "code",
   "execution_count": 13,
   "id": "301d2196-441d-4b4f-8e8e-21a45b5e7d89",
   "metadata": {},
   "outputs": [
    {
     "name": "stdout",
     "output_type": "stream",
     "text": [
      "              precision    recall  f1-score   support\n",
      "\n",
      "           0       0.89      0.91      0.90      3327\n",
      "           1       0.79      0.76      0.78      1595\n",
      "\n",
      "    accuracy                           0.86      4922\n",
      "   macro avg       0.84      0.83      0.84      4922\n",
      "weighted avg       0.86      0.86      0.86      4922\n",
      "\n"
     ]
    }
   ],
   "source": [
    "print(classification_report(y_true=testY, y_pred=rfPreds))"
   ]
  },
  {
   "cell_type": "code",
   "execution_count": 19,
   "id": "dc9e907c-6a77-4902-a994-fa601ed76ee5",
   "metadata": {},
   "outputs": [
    {
     "data": {
      "text/plain": [
       "<sklearn.metrics._plot.roc_curve.RocCurveDisplay at 0x20b1d963610>"
      ]
     },
     "execution_count": 19,
     "metadata": {},
     "output_type": "execute_result"
    },
    {
     "data": {
      "image/png": "[encoded data removed]",
      "text/plain": [
       "<Figure size 432x288 with 1 Axes>"
      ]
     },
     "metadata": {
      "needs_background": "light"
     },
     "output_type": "display_data"
    }
   ],
   "source": [
    "plot_roc_curve(estimator=rf, X=testX, y=testY, label=\"Random Forest\")"
   ]
  }
 ],
 "metadata": {
  "kernelspec": {
   "display_name": "Python 3",
   "language": "python",
   "name": "python3"
  },
  "language_info": {
   "codemirror_mode": {
    "name": "ipython",
    "version": 3
   },
   "file_extension": ".py",
   "mimetype": "text/x-python",
   "name": "python",
   "nbconvert_exporter": "python",
   "pygments_lexer": "ipython3",
   "version": "3.8.5"
  }
 },
 "nbformat": 4,
 "nbformat_minor": 5
}
